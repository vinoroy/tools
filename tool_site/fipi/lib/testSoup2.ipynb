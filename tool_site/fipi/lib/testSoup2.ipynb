{
 "cells": [
  {
   "cell_type": "code",
   "execution_count": 8,
   "metadata": {
    "collapsed": true
   },
   "outputs": [],
   "source": [
    "import urllib2\n",
    "from bs4 import BeautifulSoup\n",
    "\n",
    "import pandas as pd\n",
    "from pandas_datareader import data as pdr\n",
    "import datetime"
   ]
  },
  {
   "cell_type": "code",
   "execution_count": 16,
   "metadata": {},
   "outputs": [],
   "source": [
    "pageURL = \"https://web.tmxmoney.com/quote.php?qm_symbol=BCE.PR.Q\"\n",
    "page = urllib2.urlopen(pageURL)\n",
    "parsedPage = BeautifulSoup(page)\n",
    "stockPrice = float(parsedPage.find('div', attrs={'class':'quote-price priceLarge'}).find('span').text)\n",
    "volume = parsedPage.find('div', attrs={'class':'quote-volume volumeLarge'}).text.strip()[8:].strip()\n",
    "volume = float(volume.replace(',',''))\n",
    "\n",
    "entries = [stockPrice,stockPrice,stockPrice,stockPrice,stockPrice,volume]\n",
    "\n",
    "\n",
    "dateNow = datetime.datetime.now().strftime(\"%Y-%m-%d\")\n",
    "ref = pdr.DataReader('IBM', data_source='yahoo', start=dateNow,end=dateNow)\n",
    "lastTradingDay = ref.index[0].strftime(\"%Y-%m-%d\")\n",
    "\n",
    "\n",
    "pf = pd.DataFrame([entries],columns=['Open','High','Low','Close','Adj Close','Volume'],index=pd.date_range(lastTradingDay, periods=1))"
   ]
  },
  {
   "cell_type": "code",
   "execution_count": 17,
   "metadata": {},
   "outputs": [
    {
     "data": {
      "text/html": [
       "<div>\n",
       "<style>\n",
       "    .dataframe thead tr:only-child th {\n",
       "        text-align: right;\n",
       "    }\n",
       "\n",
       "    .dataframe thead th {\n",
       "        text-align: left;\n",
       "    }\n",
       "\n",
       "    .dataframe tbody tr th {\n",
       "        vertical-align: top;\n",
       "    }\n",
       "</style>\n",
       "<table border=\"1\" class=\"dataframe\">\n",
       "  <thead>\n",
       "    <tr style=\"text-align: right;\">\n",
       "      <th></th>\n",
       "      <th>Open</th>\n",
       "      <th>High</th>\n",
       "      <th>Low</th>\n",
       "      <th>Close</th>\n",
       "      <th>Adj Close</th>\n",
       "      <th>Volume</th>\n",
       "    </tr>\n",
       "  </thead>\n",
       "  <tbody>\n",
       "    <tr>\n",
       "      <th>2018-04-30</th>\n",
       "      <td>24.4</td>\n",
       "      <td>24.4</td>\n",
       "      <td>24.4</td>\n",
       "      <td>24.4</td>\n",
       "      <td>24.4</td>\n",
       "      <td>3374.0</td>\n",
       "    </tr>\n",
       "  </tbody>\n",
       "</table>\n",
       "</div>"
      ],
      "text/plain": [
       "            Open  High   Low  Close  Adj Close  Volume\n",
       "2018-04-30  24.4  24.4  24.4   24.4       24.4  3374.0"
      ]
     },
     "execution_count": 17,
     "metadata": {},
     "output_type": "execute_result"
    }
   ],
   "source": [
    "pf"
   ]
  },
  {
   "cell_type": "code",
   "execution_count": 21,
   "metadata": {},
   "outputs": [
    {
     "data": {
      "text/html": [
       "<div>\n",
       "<style>\n",
       "    .dataframe thead tr:only-child th {\n",
       "        text-align: right;\n",
       "    }\n",
       "\n",
       "    .dataframe thead th {\n",
       "        text-align: left;\n",
       "    }\n",
       "\n",
       "    .dataframe tbody tr th {\n",
       "        vertical-align: top;\n",
       "    }\n",
       "</style>\n",
       "<table border=\"1\" class=\"dataframe\">\n",
       "  <thead>\n",
       "    <tr style=\"text-align: right;\">\n",
       "      <th></th>\n",
       "      <th>Open</th>\n",
       "      <th>High</th>\n",
       "      <th>Low</th>\n",
       "      <th>Close</th>\n",
       "      <th>Adj Close</th>\n",
       "      <th>Volume</th>\n",
       "    </tr>\n",
       "  </thead>\n",
       "  <tbody>\n",
       "    <tr>\n",
       "      <th>2018-04-30</th>\n",
       "      <td>23.99</td>\n",
       "      <td>23.99</td>\n",
       "      <td>23.99</td>\n",
       "      <td>23.99</td>\n",
       "      <td>23.99</td>\n",
       "      <td>1</td>\n",
       "    </tr>\n",
       "  </tbody>\n",
       "</table>\n",
       "</div>"
      ],
      "text/plain": [
       "             Open   High    Low  Close  Adj Close  Volume\n",
       "2018-04-30  23.99  23.99  23.99  23.99      23.99       1"
      ]
     },
     "execution_count": 21,
     "metadata": {},
     "output_type": "execute_result"
    }
   ],
   "source": [
    "pageURL = 'https://www.preferredstockchannel.com/symbol/enb.prv.ca/'\n",
    "page = urllib2.urlopen(pageURL)\n",
    "parsedPage = BeautifulSoup(page)\n",
    "\n",
    "categories = parsedPage.find_all('td', attrs={'class':'dsty'})\n",
    "\n",
    "for idx in range(len(categories)):\n",
    "    if categories[idx].text == 'Recent Market Price:':\n",
    "        break\n",
    "        \n",
    "        \n",
    "stockPrice = parsedPage.find_all('td', attrs={'class':'dstyb'})[idx].text\n",
    "\n",
    "stockPrice = float(stockPrice.strip('$'))\n",
    "stockPrice\n",
    "\n",
    "entries = [stockPrice,stockPrice,stockPrice,stockPrice,stockPrice,1]\n",
    "\n",
    "\n",
    "dateNow = datetime.datetime.now().strftime(\"%Y-%m-%d\")\n",
    "ref = pdr.DataReader('IBM', data_source='yahoo', start=dateNow,end=dateNow)\n",
    "lastTradingDay = ref.index[0].strftime(\"%Y-%m-%d\")\n",
    "\n",
    "\n",
    "pf = pd.DataFrame([entries],columns=['Open','High','Low','Close','Adj Close','Volume'],index=pd.date_range(lastTradingDay, periods=1))\n",
    "\n",
    "pf"
   ]
  },
  {
   "cell_type": "code",
   "execution_count": null,
   "metadata": {
    "collapsed": true
   },
   "outputs": [],
   "source": []
  }
 ],
 "metadata": {
  "kernelspec": {
   "display_name": "Python 2",
   "language": "python",
   "name": "python2"
  },
  "language_info": {
   "codemirror_mode": {
    "name": "ipython",
    "version": 2
   },
   "file_extension": ".py",
   "mimetype": "text/x-python",
   "name": "python",
   "nbconvert_exporter": "python",
   "pygments_lexer": "ipython2",
   "version": "2.7.13"
  }
 },
 "nbformat": 4,
 "nbformat_minor": 2
}
